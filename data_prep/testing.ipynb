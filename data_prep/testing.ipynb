{
 "cells": [
  {
   "cell_type": "code",
   "execution_count": 19,
   "metadata": {},
   "outputs": [],
   "source": [
    "import pandas as pd\n",
    "import numpy as np\n",
    "import feather\n",
    "\n",
    "import warnings\n",
    "warnings.filterwarnings(\"ignore\")\n",
    "\n",
    "from pycaret.classification import *"
   ]
  },
  {
   "cell_type": "code",
   "execution_count": 20,
   "metadata": {},
   "outputs": [],
   "source": [
    "train = pd.read_csv('train_df.csv')\n",
    "test = pd.read_csv('test_df.csv')"
   ]
  },
  {
   "cell_type": "code",
   "execution_count": 21,
   "metadata": {},
   "outputs": [
    {
     "data": {
      "text/plain": [
       "Index(['PassengerId', 'Survived', 'Pclass', 'Sex', 'Age', 'SibSp', 'Parch',\n",
       "       'Fare', 'Embarked', 'Title', 'age_group', 'travel_party', 'not_alone'],\n",
       "      dtype='object')"
      ]
     },
     "execution_count": 21,
     "metadata": {},
     "output_type": "execute_result"
    }
   ],
   "source": [
    "train.columns"
   ]
  },
  {
   "cell_type": "code",
   "execution_count": 26,
   "metadata": {},
   "outputs": [
    {
     "data": {
      "text/html": [
       "<style type=\"text/css\">\n",
       "#T_99871_row10_col1, #T_99871_row16_col1 {\n",
       "  background-color: lightgreen;\n",
       "}\n",
       "</style>\n",
       "<table id=\"T_99871\">\n",
       "  <thead>\n",
       "    <tr>\n",
       "      <th class=\"blank level0\" >&nbsp;</th>\n",
       "      <th id=\"T_99871_level0_col0\" class=\"col_heading level0 col0\" >Description</th>\n",
       "      <th id=\"T_99871_level0_col1\" class=\"col_heading level0 col1\" >Value</th>\n",
       "    </tr>\n",
       "  </thead>\n",
       "  <tbody>\n",
       "    <tr>\n",
       "      <th id=\"T_99871_level0_row0\" class=\"row_heading level0 row0\" >0</th>\n",
       "      <td id=\"T_99871_row0_col0\" class=\"data row0 col0\" >Session id</td>\n",
       "      <td id=\"T_99871_row0_col1\" class=\"data row0 col1\" >42</td>\n",
       "    </tr>\n",
       "    <tr>\n",
       "      <th id=\"T_99871_level0_row1\" class=\"row_heading level0 row1\" >1</th>\n",
       "      <td id=\"T_99871_row1_col0\" class=\"data row1 col0\" >Target</td>\n",
       "      <td id=\"T_99871_row1_col1\" class=\"data row1 col1\" >Survived</td>\n",
       "    </tr>\n",
       "    <tr>\n",
       "      <th id=\"T_99871_level0_row2\" class=\"row_heading level0 row2\" >2</th>\n",
       "      <td id=\"T_99871_row2_col0\" class=\"data row2 col0\" >Target type</td>\n",
       "      <td id=\"T_99871_row2_col1\" class=\"data row2 col1\" >Binary</td>\n",
       "    </tr>\n",
       "    <tr>\n",
       "      <th id=\"T_99871_level0_row3\" class=\"row_heading level0 row3\" >3</th>\n",
       "      <td id=\"T_99871_row3_col0\" class=\"data row3 col0\" >Original data shape</td>\n",
       "      <td id=\"T_99871_row3_col1\" class=\"data row3 col1\" >(891, 13)</td>\n",
       "    </tr>\n",
       "    <tr>\n",
       "      <th id=\"T_99871_level0_row4\" class=\"row_heading level0 row4\" >4</th>\n",
       "      <td id=\"T_99871_row4_col0\" class=\"data row4 col0\" >Transformed data shape</td>\n",
       "      <td id=\"T_99871_row4_col1\" class=\"data row4 col1\" >(891, 5)</td>\n",
       "    </tr>\n",
       "    <tr>\n",
       "      <th id=\"T_99871_level0_row5\" class=\"row_heading level0 row5\" >5</th>\n",
       "      <td id=\"T_99871_row5_col0\" class=\"data row5 col0\" >Transformed train set shape</td>\n",
       "      <td id=\"T_99871_row5_col1\" class=\"data row5 col1\" >(623, 5)</td>\n",
       "    </tr>\n",
       "    <tr>\n",
       "      <th id=\"T_99871_level0_row6\" class=\"row_heading level0 row6\" >6</th>\n",
       "      <td id=\"T_99871_row6_col0\" class=\"data row6 col0\" >Transformed test set shape</td>\n",
       "      <td id=\"T_99871_row6_col1\" class=\"data row6 col1\" >(268, 5)</td>\n",
       "    </tr>\n",
       "    <tr>\n",
       "      <th id=\"T_99871_level0_row7\" class=\"row_heading level0 row7\" >7</th>\n",
       "      <td id=\"T_99871_row7_col0\" class=\"data row7 col0\" >Ignore features</td>\n",
       "      <td id=\"T_99871_row7_col1\" class=\"data row7 col1\" >8</td>\n",
       "    </tr>\n",
       "    <tr>\n",
       "      <th id=\"T_99871_level0_row8\" class=\"row_heading level0 row8\" >8</th>\n",
       "      <td id=\"T_99871_row8_col0\" class=\"data row8 col0\" >Numeric features</td>\n",
       "      <td id=\"T_99871_row8_col1\" class=\"data row8 col1\" >3</td>\n",
       "    </tr>\n",
       "    <tr>\n",
       "      <th id=\"T_99871_level0_row9\" class=\"row_heading level0 row9\" >9</th>\n",
       "      <td id=\"T_99871_row9_col0\" class=\"data row9 col0\" >Categorical features</td>\n",
       "      <td id=\"T_99871_row9_col1\" class=\"data row9 col1\" >1</td>\n",
       "    </tr>\n",
       "    <tr>\n",
       "      <th id=\"T_99871_level0_row10\" class=\"row_heading level0 row10\" >10</th>\n",
       "      <td id=\"T_99871_row10_col0\" class=\"data row10 col0\" >Preprocess</td>\n",
       "      <td id=\"T_99871_row10_col1\" class=\"data row10 col1\" >True</td>\n",
       "    </tr>\n",
       "    <tr>\n",
       "      <th id=\"T_99871_level0_row11\" class=\"row_heading level0 row11\" >11</th>\n",
       "      <td id=\"T_99871_row11_col0\" class=\"data row11 col0\" >Imputation type</td>\n",
       "      <td id=\"T_99871_row11_col1\" class=\"data row11 col1\" >simple</td>\n",
       "    </tr>\n",
       "    <tr>\n",
       "      <th id=\"T_99871_level0_row12\" class=\"row_heading level0 row12\" >12</th>\n",
       "      <td id=\"T_99871_row12_col0\" class=\"data row12 col0\" >Numeric imputation</td>\n",
       "      <td id=\"T_99871_row12_col1\" class=\"data row12 col1\" >mean</td>\n",
       "    </tr>\n",
       "    <tr>\n",
       "      <th id=\"T_99871_level0_row13\" class=\"row_heading level0 row13\" >13</th>\n",
       "      <td id=\"T_99871_row13_col0\" class=\"data row13 col0\" >Categorical imputation</td>\n",
       "      <td id=\"T_99871_row13_col1\" class=\"data row13 col1\" >mode</td>\n",
       "    </tr>\n",
       "    <tr>\n",
       "      <th id=\"T_99871_level0_row14\" class=\"row_heading level0 row14\" >14</th>\n",
       "      <td id=\"T_99871_row14_col0\" class=\"data row14 col0\" >Maximum one-hot encoding</td>\n",
       "      <td id=\"T_99871_row14_col1\" class=\"data row14 col1\" >25</td>\n",
       "    </tr>\n",
       "    <tr>\n",
       "      <th id=\"T_99871_level0_row15\" class=\"row_heading level0 row15\" >15</th>\n",
       "      <td id=\"T_99871_row15_col0\" class=\"data row15 col0\" >Encoding method</td>\n",
       "      <td id=\"T_99871_row15_col1\" class=\"data row15 col1\" >None</td>\n",
       "    </tr>\n",
       "    <tr>\n",
       "      <th id=\"T_99871_level0_row16\" class=\"row_heading level0 row16\" >16</th>\n",
       "      <td id=\"T_99871_row16_col0\" class=\"data row16 col0\" >Remove multicollinearity</td>\n",
       "      <td id=\"T_99871_row16_col1\" class=\"data row16 col1\" >True</td>\n",
       "    </tr>\n",
       "    <tr>\n",
       "      <th id=\"T_99871_level0_row17\" class=\"row_heading level0 row17\" >17</th>\n",
       "      <td id=\"T_99871_row17_col0\" class=\"data row17 col0\" >Multicollinearity threshold</td>\n",
       "      <td id=\"T_99871_row17_col1\" class=\"data row17 col1\" >0.900000</td>\n",
       "    </tr>\n",
       "    <tr>\n",
       "      <th id=\"T_99871_level0_row18\" class=\"row_heading level0 row18\" >18</th>\n",
       "      <td id=\"T_99871_row18_col0\" class=\"data row18 col0\" >Fold Generator</td>\n",
       "      <td id=\"T_99871_row18_col1\" class=\"data row18 col1\" >StratifiedKFold</td>\n",
       "    </tr>\n",
       "    <tr>\n",
       "      <th id=\"T_99871_level0_row19\" class=\"row_heading level0 row19\" >19</th>\n",
       "      <td id=\"T_99871_row19_col0\" class=\"data row19 col0\" >Fold Number</td>\n",
       "      <td id=\"T_99871_row19_col1\" class=\"data row19 col1\" >10</td>\n",
       "    </tr>\n",
       "    <tr>\n",
       "      <th id=\"T_99871_level0_row20\" class=\"row_heading level0 row20\" >20</th>\n",
       "      <td id=\"T_99871_row20_col0\" class=\"data row20 col0\" >CPU Jobs</td>\n",
       "      <td id=\"T_99871_row20_col1\" class=\"data row20 col1\" >-1</td>\n",
       "    </tr>\n",
       "    <tr>\n",
       "      <th id=\"T_99871_level0_row21\" class=\"row_heading level0 row21\" >21</th>\n",
       "      <td id=\"T_99871_row21_col0\" class=\"data row21 col0\" >Use GPU</td>\n",
       "      <td id=\"T_99871_row21_col1\" class=\"data row21 col1\" >False</td>\n",
       "    </tr>\n",
       "    <tr>\n",
       "      <th id=\"T_99871_level0_row22\" class=\"row_heading level0 row22\" >22</th>\n",
       "      <td id=\"T_99871_row22_col0\" class=\"data row22 col0\" >Log Experiment</td>\n",
       "      <td id=\"T_99871_row22_col1\" class=\"data row22 col1\" >False</td>\n",
       "    </tr>\n",
       "    <tr>\n",
       "      <th id=\"T_99871_level0_row23\" class=\"row_heading level0 row23\" >23</th>\n",
       "      <td id=\"T_99871_row23_col0\" class=\"data row23 col0\" >Experiment Name</td>\n",
       "      <td id=\"T_99871_row23_col1\" class=\"data row23 col1\" >clf-default-name</td>\n",
       "    </tr>\n",
       "    <tr>\n",
       "      <th id=\"T_99871_level0_row24\" class=\"row_heading level0 row24\" >24</th>\n",
       "      <td id=\"T_99871_row24_col0\" class=\"data row24 col0\" >USI</td>\n",
       "      <td id=\"T_99871_row24_col1\" class=\"data row24 col1\" >993b</td>\n",
       "    </tr>\n",
       "  </tbody>\n",
       "</table>\n"
      ],
      "text/plain": [
       "<pandas.io.formats.style.Styler at 0x30dac23d0>"
      ]
     },
     "metadata": {},
     "output_type": "display_data"
    }
   ],
   "source": [
    "# Import PyCaret classification module\n",
    "from pycaret.classification import *\n",
    "\n",
    "# Initialize PyCaret setup for classification\n",
    "# Initialize PyCaret setup, ignoring specific columns\n",
    "clf = setup(data=train,\n",
    "    target='Survived',\n",
    "    ignore_features=['PassengerId', 'age_group', 'Fare', 'Title', 'Embarked', 'SibSp', 'not_alone','Parch'],  # Columns to ignore\n",
    "    remove_multicollinearity=True,  # Enable multicollinearity removal\n",
    "    multicollinearity_threshold=0.9,  # Correlation threshold (usually between 0.85 and 0.95)\n",
    "    session_id=42\n",
    ")"
   ]
  },
  {
   "cell_type": "code",
   "execution_count": 27,
   "metadata": {},
   "outputs": [
    {
     "data": {
      "text/html": [],
      "text/plain": [
       "<IPython.core.display.HTML object>"
      ]
     },
     "metadata": {},
     "output_type": "display_data"
    },
    {
     "data": {
      "text/html": [
       "<style type=\"text/css\">\n",
       "#T_3c5b0 th {\n",
       "  text-align: left;\n",
       "}\n",
       "#T_3c5b0_row0_col0, #T_3c5b0_row0_col3, #T_3c5b0_row1_col0, #T_3c5b0_row1_col1, #T_3c5b0_row1_col2, #T_3c5b0_row1_col3, #T_3c5b0_row1_col4, #T_3c5b0_row1_col5, #T_3c5b0_row1_col6, #T_3c5b0_row1_col7, #T_3c5b0_row2_col0, #T_3c5b0_row2_col1, #T_3c5b0_row2_col2, #T_3c5b0_row2_col3, #T_3c5b0_row2_col4, #T_3c5b0_row2_col5, #T_3c5b0_row2_col6, #T_3c5b0_row2_col7, #T_3c5b0_row3_col0, #T_3c5b0_row3_col1, #T_3c5b0_row3_col2, #T_3c5b0_row3_col3, #T_3c5b0_row3_col4, #T_3c5b0_row3_col5, #T_3c5b0_row3_col6, #T_3c5b0_row3_col7, #T_3c5b0_row4_col0, #T_3c5b0_row4_col1, #T_3c5b0_row4_col2, #T_3c5b0_row4_col3, #T_3c5b0_row4_col4, #T_3c5b0_row4_col5, #T_3c5b0_row4_col6, #T_3c5b0_row4_col7, #T_3c5b0_row5_col0, #T_3c5b0_row5_col1, #T_3c5b0_row5_col2, #T_3c5b0_row5_col3, #T_3c5b0_row5_col4, #T_3c5b0_row5_col5, #T_3c5b0_row5_col6, #T_3c5b0_row5_col7, #T_3c5b0_row6_col0, #T_3c5b0_row6_col1, #T_3c5b0_row6_col2, #T_3c5b0_row6_col4, #T_3c5b0_row6_col5, #T_3c5b0_row6_col6, #T_3c5b0_row6_col7, #T_3c5b0_row7_col0, #T_3c5b0_row7_col1, #T_3c5b0_row7_col2, #T_3c5b0_row7_col3, #T_3c5b0_row7_col4, #T_3c5b0_row7_col5, #T_3c5b0_row7_col6, #T_3c5b0_row7_col7, #T_3c5b0_row8_col0, #T_3c5b0_row8_col1, #T_3c5b0_row8_col2, #T_3c5b0_row8_col3, #T_3c5b0_row8_col4, #T_3c5b0_row8_col5, #T_3c5b0_row8_col6, #T_3c5b0_row8_col7, #T_3c5b0_row9_col0, #T_3c5b0_row9_col1, #T_3c5b0_row9_col2, #T_3c5b0_row9_col3, #T_3c5b0_row9_col4, #T_3c5b0_row9_col5, #T_3c5b0_row9_col6, #T_3c5b0_row9_col7, #T_3c5b0_row10_col0, #T_3c5b0_row10_col1, #T_3c5b0_row10_col2, #T_3c5b0_row10_col3, #T_3c5b0_row10_col4, #T_3c5b0_row10_col5, #T_3c5b0_row10_col6, #T_3c5b0_row10_col7, #T_3c5b0_row11_col0, #T_3c5b0_row11_col1, #T_3c5b0_row11_col2, #T_3c5b0_row11_col3, #T_3c5b0_row11_col4, #T_3c5b0_row11_col5, #T_3c5b0_row11_col6, #T_3c5b0_row11_col7, #T_3c5b0_row12_col0, #T_3c5b0_row12_col1, #T_3c5b0_row12_col2, #T_3c5b0_row12_col3, #T_3c5b0_row12_col4, #T_3c5b0_row12_col5, #T_3c5b0_row12_col6, #T_3c5b0_row12_col7, #T_3c5b0_row13_col0, #T_3c5b0_row13_col1, #T_3c5b0_row13_col2, #T_3c5b0_row13_col3, #T_3c5b0_row13_col4, #T_3c5b0_row13_col5, #T_3c5b0_row13_col6, #T_3c5b0_row13_col7, #T_3c5b0_row14_col0, #T_3c5b0_row14_col1, #T_3c5b0_row14_col2, #T_3c5b0_row14_col3, #T_3c5b0_row14_col4, #T_3c5b0_row14_col5, #T_3c5b0_row14_col6, #T_3c5b0_row14_col7, #T_3c5b0_row15_col0, #T_3c5b0_row15_col1, #T_3c5b0_row15_col2, #T_3c5b0_row15_col3, #T_3c5b0_row15_col4, #T_3c5b0_row15_col5, #T_3c5b0_row15_col6, #T_3c5b0_row15_col7 {\n",
       "  text-align: left;\n",
       "}\n",
       "#T_3c5b0_row0_col1, #T_3c5b0_row0_col2, #T_3c5b0_row0_col4, #T_3c5b0_row0_col5, #T_3c5b0_row0_col6, #T_3c5b0_row0_col7, #T_3c5b0_row6_col3 {\n",
       "  text-align: left;\n",
       "  background-color: yellow;\n",
       "}\n",
       "#T_3c5b0_row0_col8, #T_3c5b0_row1_col8, #T_3c5b0_row2_col8, #T_3c5b0_row3_col8, #T_3c5b0_row5_col8, #T_3c5b0_row6_col8, #T_3c5b0_row7_col8, #T_3c5b0_row9_col8, #T_3c5b0_row10_col8, #T_3c5b0_row12_col8, #T_3c5b0_row13_col8, #T_3c5b0_row14_col8 {\n",
       "  text-align: left;\n",
       "  background-color: lightgrey;\n",
       "}\n",
       "#T_3c5b0_row4_col8, #T_3c5b0_row8_col8, #T_3c5b0_row11_col8, #T_3c5b0_row15_col8 {\n",
       "  text-align: left;\n",
       "  background-color: yellow;\n",
       "  background-color: lightgrey;\n",
       "}\n",
       "</style>\n",
       "<table id=\"T_3c5b0\">\n",
       "  <thead>\n",
       "    <tr>\n",
       "      <th class=\"blank level0\" >&nbsp;</th>\n",
       "      <th id=\"T_3c5b0_level0_col0\" class=\"col_heading level0 col0\" >Model</th>\n",
       "      <th id=\"T_3c5b0_level0_col1\" class=\"col_heading level0 col1\" >Accuracy</th>\n",
       "      <th id=\"T_3c5b0_level0_col2\" class=\"col_heading level0 col2\" >AUC</th>\n",
       "      <th id=\"T_3c5b0_level0_col3\" class=\"col_heading level0 col3\" >Recall</th>\n",
       "      <th id=\"T_3c5b0_level0_col4\" class=\"col_heading level0 col4\" >Prec.</th>\n",
       "      <th id=\"T_3c5b0_level0_col5\" class=\"col_heading level0 col5\" >F1</th>\n",
       "      <th id=\"T_3c5b0_level0_col6\" class=\"col_heading level0 col6\" >Kappa</th>\n",
       "      <th id=\"T_3c5b0_level0_col7\" class=\"col_heading level0 col7\" >MCC</th>\n",
       "      <th id=\"T_3c5b0_level0_col8\" class=\"col_heading level0 col8\" >TT (Sec)</th>\n",
       "    </tr>\n",
       "  </thead>\n",
       "  <tbody>\n",
       "    <tr>\n",
       "      <th id=\"T_3c5b0_level0_row0\" class=\"row_heading level0 row0\" >catboost</th>\n",
       "      <td id=\"T_3c5b0_row0_col0\" class=\"data row0 col0\" >CatBoost Classifier</td>\n",
       "      <td id=\"T_3c5b0_row0_col1\" class=\"data row0 col1\" >0.8314</td>\n",
       "      <td id=\"T_3c5b0_row0_col2\" class=\"data row0 col2\" >0.8618</td>\n",
       "      <td id=\"T_3c5b0_row0_col3\" class=\"data row0 col3\" >0.6946</td>\n",
       "      <td id=\"T_3c5b0_row0_col4\" class=\"data row0 col4\" >0.8404</td>\n",
       "      <td id=\"T_3c5b0_row0_col5\" class=\"data row0 col5\" >0.7594</td>\n",
       "      <td id=\"T_3c5b0_row0_col6\" class=\"data row0 col6\" >0.6316</td>\n",
       "      <td id=\"T_3c5b0_row0_col7\" class=\"data row0 col7\" >0.6393</td>\n",
       "      <td id=\"T_3c5b0_row0_col8\" class=\"data row0 col8\" >0.0790</td>\n",
       "    </tr>\n",
       "    <tr>\n",
       "      <th id=\"T_3c5b0_level0_row1\" class=\"row_heading level0 row1\" >lightgbm</th>\n",
       "      <td id=\"T_3c5b0_row1_col0\" class=\"data row1 col0\" >Light Gradient Boosting Machine</td>\n",
       "      <td id=\"T_3c5b0_row1_col1\" class=\"data row1 col1\" >0.8187</td>\n",
       "      <td id=\"T_3c5b0_row1_col2\" class=\"data row1 col2\" >0.8478</td>\n",
       "      <td id=\"T_3c5b0_row1_col3\" class=\"data row1 col3\" >0.7074</td>\n",
       "      <td id=\"T_3c5b0_row1_col4\" class=\"data row1 col4\" >0.8025</td>\n",
       "      <td id=\"T_3c5b0_row1_col5\" class=\"data row1 col5\" >0.7492</td>\n",
       "      <td id=\"T_3c5b0_row1_col6\" class=\"data row1 col6\" >0.6084</td>\n",
       "      <td id=\"T_3c5b0_row1_col7\" class=\"data row1 col7\" >0.6138</td>\n",
       "      <td id=\"T_3c5b0_row1_col8\" class=\"data row1 col8\" >0.1330</td>\n",
       "    </tr>\n",
       "    <tr>\n",
       "      <th id=\"T_3c5b0_level0_row2\" class=\"row_heading level0 row2\" >gbc</th>\n",
       "      <td id=\"T_3c5b0_row2_col0\" class=\"data row2 col0\" >Gradient Boosting Classifier</td>\n",
       "      <td id=\"T_3c5b0_row2_col1\" class=\"data row2 col1\" >0.8123</td>\n",
       "      <td id=\"T_3c5b0_row2_col2\" class=\"data row2 col2\" >0.8537</td>\n",
       "      <td id=\"T_3c5b0_row2_col3\" class=\"data row2 col3\" >0.6822</td>\n",
       "      <td id=\"T_3c5b0_row2_col4\" class=\"data row2 col4\" >0.8064</td>\n",
       "      <td id=\"T_3c5b0_row2_col5\" class=\"data row2 col5\" >0.7350</td>\n",
       "      <td id=\"T_3c5b0_row2_col6\" class=\"data row2 col6\" >0.5917</td>\n",
       "      <td id=\"T_3c5b0_row2_col7\" class=\"data row2 col7\" >0.6000</td>\n",
       "      <td id=\"T_3c5b0_row2_col8\" class=\"data row2 col8\" >0.0130</td>\n",
       "    </tr>\n",
       "    <tr>\n",
       "      <th id=\"T_3c5b0_level0_row3\" class=\"row_heading level0 row3\" >xgboost</th>\n",
       "      <td id=\"T_3c5b0_row3_col0\" class=\"data row3 col0\" >Extreme Gradient Boosting</td>\n",
       "      <td id=\"T_3c5b0_row3_col1\" class=\"data row3 col1\" >0.8089</td>\n",
       "      <td id=\"T_3c5b0_row3_col2\" class=\"data row3 col2\" >0.8329</td>\n",
       "      <td id=\"T_3c5b0_row3_col3\" class=\"data row3 col3\" >0.6947</td>\n",
       "      <td id=\"T_3c5b0_row3_col4\" class=\"data row3 col4\" >0.7884</td>\n",
       "      <td id=\"T_3c5b0_row3_col5\" class=\"data row3 col5\" >0.7370</td>\n",
       "      <td id=\"T_3c5b0_row3_col6\" class=\"data row3 col6\" >0.5879</td>\n",
       "      <td id=\"T_3c5b0_row3_col7\" class=\"data row3 col7\" >0.5923</td>\n",
       "      <td id=\"T_3c5b0_row3_col8\" class=\"data row3 col8\" >0.0090</td>\n",
       "    </tr>\n",
       "    <tr>\n",
       "      <th id=\"T_3c5b0_level0_row4\" class=\"row_heading level0 row4\" >qda</th>\n",
       "      <td id=\"T_3c5b0_row4_col0\" class=\"data row4 col0\" >Quadratic Discriminant Analysis</td>\n",
       "      <td id=\"T_3c5b0_row4_col1\" class=\"data row4 col1\" >0.8074</td>\n",
       "      <td id=\"T_3c5b0_row4_col2\" class=\"data row4 col2\" >0.8562</td>\n",
       "      <td id=\"T_3c5b0_row4_col3\" class=\"data row4 col3\" >0.7033</td>\n",
       "      <td id=\"T_3c5b0_row4_col4\" class=\"data row4 col4\" >0.7784</td>\n",
       "      <td id=\"T_3c5b0_row4_col5\" class=\"data row4 col5\" >0.7350</td>\n",
       "      <td id=\"T_3c5b0_row4_col6\" class=\"data row4 col6\" >0.5851</td>\n",
       "      <td id=\"T_3c5b0_row4_col7\" class=\"data row4 col7\" >0.5903</td>\n",
       "      <td id=\"T_3c5b0_row4_col8\" class=\"data row4 col8\" >0.0060</td>\n",
       "    </tr>\n",
       "    <tr>\n",
       "      <th id=\"T_3c5b0_level0_row5\" class=\"row_heading level0 row5\" >rf</th>\n",
       "      <td id=\"T_3c5b0_row5_col0\" class=\"data row5 col0\" >Random Forest Classifier</td>\n",
       "      <td id=\"T_3c5b0_row5_col1\" class=\"data row5 col1\" >0.8041</td>\n",
       "      <td id=\"T_3c5b0_row5_col2\" class=\"data row5 col2\" >0.8337</td>\n",
       "      <td id=\"T_3c5b0_row5_col3\" class=\"data row5 col3\" >0.7076</td>\n",
       "      <td id=\"T_3c5b0_row5_col4\" class=\"data row5 col4\" >0.7698</td>\n",
       "      <td id=\"T_3c5b0_row5_col5\" class=\"data row5 col5\" >0.7345</td>\n",
       "      <td id=\"T_3c5b0_row5_col6\" class=\"data row5 col6\" >0.5802</td>\n",
       "      <td id=\"T_3c5b0_row5_col7\" class=\"data row5 col7\" >0.5844</td>\n",
       "      <td id=\"T_3c5b0_row5_col8\" class=\"data row5 col8\" >0.0310</td>\n",
       "    </tr>\n",
       "    <tr>\n",
       "      <th id=\"T_3c5b0_level0_row6\" class=\"row_heading level0 row6\" >ada</th>\n",
       "      <td id=\"T_3c5b0_row6_col0\" class=\"data row6 col0\" >Ada Boost Classifier</td>\n",
       "      <td id=\"T_3c5b0_row6_col1\" class=\"data row6 col1\" >0.8010</td>\n",
       "      <td id=\"T_3c5b0_row6_col2\" class=\"data row6 col2\" >0.8248</td>\n",
       "      <td id=\"T_3c5b0_row6_col3\" class=\"data row6 col3\" >0.7284</td>\n",
       "      <td id=\"T_3c5b0_row6_col4\" class=\"data row6 col4\" >0.7558</td>\n",
       "      <td id=\"T_3c5b0_row6_col5\" class=\"data row6 col5\" >0.7360</td>\n",
       "      <td id=\"T_3c5b0_row6_col6\" class=\"data row6 col6\" >0.5776</td>\n",
       "      <td id=\"T_3c5b0_row6_col7\" class=\"data row6 col7\" >0.5834</td>\n",
       "      <td id=\"T_3c5b0_row6_col8\" class=\"data row6 col8\" >0.0130</td>\n",
       "    </tr>\n",
       "    <tr>\n",
       "      <th id=\"T_3c5b0_level0_row7\" class=\"row_heading level0 row7\" >lda</th>\n",
       "      <td id=\"T_3c5b0_row7_col0\" class=\"data row7 col0\" >Linear Discriminant Analysis</td>\n",
       "      <td id=\"T_3c5b0_row7_col1\" class=\"data row7 col1\" >0.7994</td>\n",
       "      <td id=\"T_3c5b0_row7_col2\" class=\"data row7 col2\" >0.8560</td>\n",
       "      <td id=\"T_3c5b0_row7_col3\" class=\"data row7 col3\" >0.6824</td>\n",
       "      <td id=\"T_3c5b0_row7_col4\" class=\"data row7 col4\" >0.7704</td>\n",
       "      <td id=\"T_3c5b0_row7_col5\" class=\"data row7 col5\" >0.7215</td>\n",
       "      <td id=\"T_3c5b0_row7_col6\" class=\"data row7 col6\" >0.5662</td>\n",
       "      <td id=\"T_3c5b0_row7_col7\" class=\"data row7 col7\" >0.5706</td>\n",
       "      <td id=\"T_3c5b0_row7_col8\" class=\"data row7 col8\" >0.0070</td>\n",
       "    </tr>\n",
       "    <tr>\n",
       "      <th id=\"T_3c5b0_level0_row8\" class=\"row_heading level0 row8\" >ridge</th>\n",
       "      <td id=\"T_3c5b0_row8_col0\" class=\"data row8 col0\" >Ridge Classifier</td>\n",
       "      <td id=\"T_3c5b0_row8_col1\" class=\"data row8 col1\" >0.7978</td>\n",
       "      <td id=\"T_3c5b0_row8_col2\" class=\"data row8 col2\" >0.0000</td>\n",
       "      <td id=\"T_3c5b0_row8_col3\" class=\"data row8 col3\" >0.6783</td>\n",
       "      <td id=\"T_3c5b0_row8_col4\" class=\"data row8 col4\" >0.7695</td>\n",
       "      <td id=\"T_3c5b0_row8_col5\" class=\"data row8 col5\" >0.7185</td>\n",
       "      <td id=\"T_3c5b0_row8_col6\" class=\"data row8 col6\" >0.5623</td>\n",
       "      <td id=\"T_3c5b0_row8_col7\" class=\"data row8 col7\" >0.5671</td>\n",
       "      <td id=\"T_3c5b0_row8_col8\" class=\"data row8 col8\" >0.0060</td>\n",
       "    </tr>\n",
       "    <tr>\n",
       "      <th id=\"T_3c5b0_level0_row9\" class=\"row_heading level0 row9\" >nb</th>\n",
       "      <td id=\"T_3c5b0_row9_col0\" class=\"data row9 col0\" >Naive Bayes</td>\n",
       "      <td id=\"T_3c5b0_row9_col1\" class=\"data row9 col1\" >0.7946</td>\n",
       "      <td id=\"T_3c5b0_row9_col2\" class=\"data row9 col2\" >0.8458</td>\n",
       "      <td id=\"T_3c5b0_row9_col3\" class=\"data row9 col3\" >0.6866</td>\n",
       "      <td id=\"T_3c5b0_row9_col4\" class=\"data row9 col4\" >0.7578</td>\n",
       "      <td id=\"T_3c5b0_row9_col5\" class=\"data row9 col5\" >0.7175</td>\n",
       "      <td id=\"T_3c5b0_row9_col6\" class=\"data row9 col6\" >0.5574</td>\n",
       "      <td id=\"T_3c5b0_row9_col7\" class=\"data row9 col7\" >0.5615</td>\n",
       "      <td id=\"T_3c5b0_row9_col8\" class=\"data row9 col8\" >0.0070</td>\n",
       "    </tr>\n",
       "    <tr>\n",
       "      <th id=\"T_3c5b0_level0_row10\" class=\"row_heading level0 row10\" >et</th>\n",
       "      <td id=\"T_3c5b0_row10_col0\" class=\"data row10 col0\" >Extra Trees Classifier</td>\n",
       "      <td id=\"T_3c5b0_row10_col1\" class=\"data row10 col1\" >0.7929</td>\n",
       "      <td id=\"T_3c5b0_row10_col2\" class=\"data row10 col2\" >0.8157</td>\n",
       "      <td id=\"T_3c5b0_row10_col3\" class=\"data row10 col3\" >0.6783</td>\n",
       "      <td id=\"T_3c5b0_row10_col4\" class=\"data row10 col4\" >0.7658</td>\n",
       "      <td id=\"T_3c5b0_row10_col5\" class=\"data row10 col5\" >0.7152</td>\n",
       "      <td id=\"T_3c5b0_row10_col6\" class=\"data row10 col6\" >0.5540</td>\n",
       "      <td id=\"T_3c5b0_row10_col7\" class=\"data row10 col7\" >0.5602</td>\n",
       "      <td id=\"T_3c5b0_row10_col8\" class=\"data row10 col8\" >0.0260</td>\n",
       "    </tr>\n",
       "    <tr>\n",
       "      <th id=\"T_3c5b0_level0_row11\" class=\"row_heading level0 row11\" >dt</th>\n",
       "      <td id=\"T_3c5b0_row11_col0\" class=\"data row11 col0\" >Decision Tree Classifier</td>\n",
       "      <td id=\"T_3c5b0_row11_col1\" class=\"data row11 col1\" >0.7897</td>\n",
       "      <td id=\"T_3c5b0_row11_col2\" class=\"data row11 col2\" >0.7729</td>\n",
       "      <td id=\"T_3c5b0_row11_col3\" class=\"data row11 col3\" >0.6701</td>\n",
       "      <td id=\"T_3c5b0_row11_col4\" class=\"data row11 col4\" >0.7647</td>\n",
       "      <td id=\"T_3c5b0_row11_col5\" class=\"data row11 col5\" >0.7096</td>\n",
       "      <td id=\"T_3c5b0_row11_col6\" class=\"data row11 col6\" >0.5466</td>\n",
       "      <td id=\"T_3c5b0_row11_col7\" class=\"data row11 col7\" >0.5538</td>\n",
       "      <td id=\"T_3c5b0_row11_col8\" class=\"data row11 col8\" >0.0060</td>\n",
       "    </tr>\n",
       "    <tr>\n",
       "      <th id=\"T_3c5b0_level0_row12\" class=\"row_heading level0 row12\" >lr</th>\n",
       "      <td id=\"T_3c5b0_row12_col0\" class=\"data row12 col0\" >Logistic Regression</td>\n",
       "      <td id=\"T_3c5b0_row12_col1\" class=\"data row12 col1\" >0.7834</td>\n",
       "      <td id=\"T_3c5b0_row12_col2\" class=\"data row12 col2\" >0.8559</td>\n",
       "      <td id=\"T_3c5b0_row12_col3\" class=\"data row12 col3\" >0.6866</td>\n",
       "      <td id=\"T_3c5b0_row12_col4\" class=\"data row12 col4\" >0.7378</td>\n",
       "      <td id=\"T_3c5b0_row12_col5\" class=\"data row12 col5\" >0.7071</td>\n",
       "      <td id=\"T_3c5b0_row12_col6\" class=\"data row12 col6\" >0.5364</td>\n",
       "      <td id=\"T_3c5b0_row12_col7\" class=\"data row12 col7\" >0.5409</td>\n",
       "      <td id=\"T_3c5b0_row12_col8\" class=\"data row12 col8\" >0.0130</td>\n",
       "    </tr>\n",
       "    <tr>\n",
       "      <th id=\"T_3c5b0_level0_row13\" class=\"row_heading level0 row13\" >knn</th>\n",
       "      <td id=\"T_3c5b0_row13_col0\" class=\"data row13 col0\" >K Neighbors Classifier</td>\n",
       "      <td id=\"T_3c5b0_row13_col1\" class=\"data row13 col1\" >0.7706</td>\n",
       "      <td id=\"T_3c5b0_row13_col2\" class=\"data row13 col2\" >0.7919</td>\n",
       "      <td id=\"T_3c5b0_row13_col3\" class=\"data row13 col3\" >0.5989</td>\n",
       "      <td id=\"T_3c5b0_row13_col4\" class=\"data row13 col4\" >0.7618</td>\n",
       "      <td id=\"T_3c5b0_row13_col5\" class=\"data row13 col5\" >0.6662</td>\n",
       "      <td id=\"T_3c5b0_row13_col6\" class=\"data row13 col6\" >0.4958</td>\n",
       "      <td id=\"T_3c5b0_row13_col7\" class=\"data row13 col7\" >0.5076</td>\n",
       "      <td id=\"T_3c5b0_row13_col8\" class=\"data row13 col8\" >0.0120</td>\n",
       "    </tr>\n",
       "    <tr>\n",
       "      <th id=\"T_3c5b0_level0_row14\" class=\"row_heading level0 row14\" >svm</th>\n",
       "      <td id=\"T_3c5b0_row14_col0\" class=\"data row14 col0\" >SVM - Linear Kernel</td>\n",
       "      <td id=\"T_3c5b0_row14_col1\" class=\"data row14 col1\" >0.7173</td>\n",
       "      <td id=\"T_3c5b0_row14_col2\" class=\"data row14 col2\" >0.0000</td>\n",
       "      <td id=\"T_3c5b0_row14_col3\" class=\"data row14 col3\" >0.5813</td>\n",
       "      <td id=\"T_3c5b0_row14_col4\" class=\"data row14 col4\" >0.7602</td>\n",
       "      <td id=\"T_3c5b0_row14_col5\" class=\"data row14 col5\" >0.5943</td>\n",
       "      <td id=\"T_3c5b0_row14_col6\" class=\"data row14 col6\" >0.3978</td>\n",
       "      <td id=\"T_3c5b0_row14_col7\" class=\"data row14 col7\" >0.4484</td>\n",
       "      <td id=\"T_3c5b0_row14_col8\" class=\"data row14 col8\" >0.0080</td>\n",
       "    </tr>\n",
       "    <tr>\n",
       "      <th id=\"T_3c5b0_level0_row15\" class=\"row_heading level0 row15\" >dummy</th>\n",
       "      <td id=\"T_3c5b0_row15_col0\" class=\"data row15 col0\" >Dummy Classifier</td>\n",
       "      <td id=\"T_3c5b0_row15_col1\" class=\"data row15 col1\" >0.6164</td>\n",
       "      <td id=\"T_3c5b0_row15_col2\" class=\"data row15 col2\" >0.5000</td>\n",
       "      <td id=\"T_3c5b0_row15_col3\" class=\"data row15 col3\" >0.0000</td>\n",
       "      <td id=\"T_3c5b0_row15_col4\" class=\"data row15 col4\" >0.0000</td>\n",
       "      <td id=\"T_3c5b0_row15_col5\" class=\"data row15 col5\" >0.0000</td>\n",
       "      <td id=\"T_3c5b0_row15_col6\" class=\"data row15 col6\" >0.0000</td>\n",
       "      <td id=\"T_3c5b0_row15_col7\" class=\"data row15 col7\" >0.0000</td>\n",
       "      <td id=\"T_3c5b0_row15_col8\" class=\"data row15 col8\" >0.0060</td>\n",
       "    </tr>\n",
       "  </tbody>\n",
       "</table>\n"
      ],
      "text/plain": [
       "<pandas.io.formats.style.Styler at 0x30dc1f750>"
      ]
     },
     "metadata": {},
     "output_type": "display_data"
    },
    {
     "data": {
      "text/html": [],
      "text/plain": [
       "<IPython.core.display.HTML object>"
      ]
     },
     "metadata": {},
     "output_type": "display_data"
    }
   ],
   "source": [
    "# Compare models\n",
    "best_model = compare_models()"
   ]
  },
  {
   "cell_type": "code",
   "execution_count": 28,
   "metadata": {},
   "outputs": [],
   "source": [
    "final_model = finalize_model(best_model)"
   ]
  },
  {
   "cell_type": "code",
   "execution_count": 29,
   "metadata": {},
   "outputs": [
    {
     "name": "stdout",
     "output_type": "stream",
     "text": [
      "Index(['Pclass', 'Sex', 'Age', 'travel_party'], dtype='object')\n"
     ]
    }
   ],
   "source": [
    "# Get the processed dataset after PyCaret's setup\n",
    "processed_data = get_config('X')\n",
    "\n",
    "# Show the feature names\n",
    "print(processed_data.columns)"
   ]
  },
  {
   "cell_type": "code",
   "execution_count": 30,
   "metadata": {},
   "outputs": [
    {
     "data": {
      "text/html": [],
      "text/plain": [
       "<IPython.core.display.HTML object>"
      ]
     },
     "metadata": {},
     "output_type": "display_data"
    },
    {
     "name": "stdout",
     "output_type": "stream",
     "text": [
      "   PassengerId  Pclass     Sex   Age  SibSp  Parch     Fare Embarked Title  \\\n",
      "0          892       3    male  34.5      0      0   7.8292        Q    Mr   \n",
      "1          893       3  female  47.0      1      0   7.0000        S   Mrs   \n",
      "2          894       2    male  62.0      0      0   9.6875        Q    Mr   \n",
      "3          895       3    male  27.0      0      0   8.6625        S    Mr   \n",
      "4          896       3  female  22.0      1      1  12.2875        S   Mrs   \n",
      "\n",
      "     age_group  travel_party  not_alone  prediction_label  prediction_score  \n",
      "0        Adult             0          1                 0            0.9287  \n",
      "1        Adult             1          0                 0            0.8384  \n",
      "2       Senior             0          1                 0            0.7247  \n",
      "3  Young Adult             0          1                 0            0.7861  \n",
      "4  Young Adult             2          0                 1            0.5422  \n"
     ]
    }
   ],
   "source": [
    "# Make predictions on the test set\n",
    "predictions = predict_model(final_model, data=test)\n",
    "\n",
    "# View predictions\n",
    "print(predictions.head())"
   ]
  },
  {
   "cell_type": "code",
   "execution_count": 32,
   "metadata": {},
   "outputs": [
    {
     "name": "stdout",
     "output_type": "stream",
     "text": [
      "Index(['PassengerId', 'Pclass', 'Sex', 'Age', 'SibSp', 'Parch', 'Fare',\n",
      "       'Embarked', 'Title', 'age_group', 'travel_party', 'not_alone',\n",
      "       'prediction_label', 'prediction_score'],\n",
      "      dtype='object')\n"
     ]
    }
   ],
   "source": [
    "print(predictions.columns)"
   ]
  },
  {
   "cell_type": "code",
   "execution_count": 33,
   "metadata": {},
   "outputs": [
    {
     "data": {
      "application/vnd.jupyter.widget-view+json": {
       "model_id": "c185b2b312fb462ea7689b39c3803a34",
       "version_major": 2,
       "version_minor": 0
      },
      "text/plain": [
       "interactive(children=(ToggleButtons(description='Plot Type:', icons=('',), options=(('Pipeline Plot', 'pipelin…"
      ]
     },
     "metadata": {},
     "output_type": "display_data"
    }
   ],
   "source": [
    "# Evaluate on test set\n",
    "evaluate_model(final_model)"
   ]
  },
  {
   "cell_type": "code",
   "execution_count": 34,
   "metadata": {},
   "outputs": [
    {
     "name": "stdout",
     "output_type": "stream",
     "text": [
      "Transformation Pipeline and Model Successfully Saved\n"
     ]
    },
    {
     "data": {
      "text/plain": [
       "(Pipeline(memory=Memory(location=None),\n",
       "          steps=[('numerical_imputer',\n",
       "                  TransformerWrapper(exclude=None,\n",
       "                                     include=['Pclass', 'Age', 'travel_party'],\n",
       "                                     transformer=SimpleImputer(add_indicator=False,\n",
       "                                                               copy=True,\n",
       "                                                               fill_value=None,\n",
       "                                                               keep_empty_features=False,\n",
       "                                                               missing_values=nan,\n",
       "                                                               strategy='mean',\n",
       "                                                               verbose='deprecated'))),\n",
       "                 ('categorical_imputer',\n",
       "                  TransformerWrapper(exclude=None,...\n",
       "                                                                handle_unknown='value',\n",
       "                                                                mapping=[{'col': 'Sex',\n",
       "                                                                          'data_type': dtype('O'),\n",
       "                                                                          'mapping': female    0\n",
       " male      1\n",
       " NaN      -1\n",
       " dtype: int64}],\n",
       "                                                                return_df=True,\n",
       "                                                                verbose=0))),\n",
       "                 ('remove_multicollinearity',\n",
       "                  TransformerWrapper(exclude=[], include=None,\n",
       "                                     transformer=RemoveMulticollinearity(threshold=0.9))),\n",
       "                 ('actual_estimator',\n",
       "                  <catboost.core.CatBoostClassifier object at 0x30dab00d0>)],\n",
       "          verbose=False),\n",
       " 'best_titanic_model.pkl')"
      ]
     },
     "execution_count": 34,
     "metadata": {},
     "output_type": "execute_result"
    }
   ],
   "source": [
    "save_model(final_model, 'best_titanic_model')"
   ]
  },
  {
   "cell_type": "code",
   "execution_count": null,
   "metadata": {},
   "outputs": [],
   "source": [
    "from pycaret.classification import save_model\n",
    "# Save the model as 'best_titanic_model'\n",
    "save_model(final_model, 'model/best_titanic_model')\n"
   ]
  },
  {
   "cell_type": "code",
   "execution_count": null,
   "metadata": {},
   "outputs": [],
   "source": []
  }
 ],
 "metadata": {
  "kernelspec": {
   "display_name": "Python 3",
   "language": "python",
   "name": "python3"
  },
  "language_info": {
   "codemirror_mode": {
    "name": "ipython",
    "version": 3
   },
   "file_extension": ".py",
   "mimetype": "text/x-python",
   "name": "python",
   "nbconvert_exporter": "python",
   "pygments_lexer": "ipython3",
   "version": "3.11.4"
  }
 },
 "nbformat": 4,
 "nbformat_minor": 2
}
